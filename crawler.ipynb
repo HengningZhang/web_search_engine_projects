{
 "cells": [
  {
   "cell_type": "code",
   "execution_count": 1,
   "source": [
    "from googlesearch import search"
   ],
   "outputs": [],
   "metadata": {}
  },
  {
   "cell_type": "code",
   "execution_count": 2,
   "source": [
    "query = \"brooklyn union\"\r\n",
    "results_list = []\r\n",
    "for i in search(query,        # The query you want to run\r\n",
    "                tld = 'com',  # The top level domain\r\n",
    "                lang = 'en',  # The language\r\n",
    "                num = 10,     # Number of results per page\r\n",
    "                start = 0,    # First result to retrieve\r\n",
    "                stop = 10,  # Last result to retrieve\r\n",
    "              \r\n",
    "               ):\r\n",
    "    results_list.append(i)\r\n",
    "    print(i)"
   ],
   "outputs": [
    {
     "output_type": "stream",
     "name": "stdout",
     "text": [
      "https://www.nationalgridus.com/\n",
      "https://www1.nationalgridus.com/signin\n",
      "https://www.nationalgridus.com/contact-us\n",
      "https://www.nationalgridus.com/NY-Home/\n",
      "https://www.nationalgridus.com/regionalized/Billing-Payments/Ways-to-Pay\n",
      "https://www.dnb.com/business-directory/company-profiles.the_brooklyn_union_gas_company.89887e0b5ad7b8157fc9e5f233efd2a8.html\n",
      "https://www.dnb.com/business-directory/company-profiles.the_brooklyn_union_gas_company.89887e0b5ad7b8157fc9e5f233efd2a8.html#credit-reports\n",
      "https://www.dnb.com/business-directory/company-profiles.the_brooklyn_union_gas_company.89887e0b5ad7b8157fc9e5f233efd2a8.html#related-companies\n",
      "https://en.wikipedia.org/wiki/KeySpan\n",
      "https://www.bloomberg.com/profile/company/80132MF:US\n"
     ]
    }
   ],
   "metadata": {}
  },
  {
   "cell_type": "code",
   "execution_count": 3,
   "source": [
    "from bs4 import BeautifulSoup\r\n",
    "import requests\r\n",
    "from urllib.parse import urlparse, urljoin\r\n",
    "import urllib.robotparser\r\n",
    "import urllib.request\r\n",
    "import queue"
   ],
   "outputs": [],
   "metadata": {}
  },
  {
   "cell_type": "code",
   "execution_count": 4,
   "source": [
    "rp = urllib.robotparser.RobotFileParser()\r\n",
    "rp.set_url(\"http://google.com/robots.txt\")\r\n",
    "rp.read()\r\n",
    "print(rp.can_fetch(\"*\",\"http://google.com/search/\"))\r\n",
    "print(rp.can_fetch(\"*\",\"http://google.com/\"))"
   ],
   "outputs": [
    {
     "output_type": "stream",
     "name": "stdout",
     "text": [
      "False\n",
      "False\n"
     ]
    }
   ],
   "metadata": {}
  },
  {
   "cell_type": "code",
   "execution_count": 5,
   "source": [
    "rp = urllib.robotparser.RobotFileParser()\r\n",
    "rp.set_url(\"http://nyu.edu/robots.txt\")\r\n",
    "rp.read()\r\n",
    "print(rp.can_fetch(\"*\",\"http://nyu.edu/search/\"))\r\n",
    "print(rp.can_fetch(\"*\",\"http://nyu.edu/\"))\r\n",
    "# print(rp.can_fetch(\"*\",\"http://google.com/search/\"))\r\n",
    "# print(rp.can_fetch(\"*\",\"http://google.com/\"))"
   ],
   "outputs": [
    {
     "output_type": "stream",
     "name": "stdout",
     "text": [
      "False\n",
      "False\n"
     ]
    }
   ],
   "metadata": {}
  },
  {
   "cell_type": "code",
   "execution_count": 6,
   "source": [
    "\r\n",
    "html_page = requests.get(\"http://google.com/intl/en/ads/\")\r\n",
    "\r\n",
    "soup = BeautifulSoup(html_page.text, \"html.parser\")\r\n",
    "\r\n",
    "urls = []\r\n",
    "for link in soup.find_all('a'):\r\n",
    "    print(link.get('href'))\r\n",
    "print(urls)\r\n"
   ],
   "outputs": [
    {
     "output_type": "stream",
     "name": "stdout",
     "text": [
      "None\n",
      "../home/\n",
      "#jump-content\n",
      "../home/how-it-works/\n",
      "../home/pricing/\n",
      "../home/faq/\n",
      "../home/resources/advanced/\n",
      "../home/contact-us/\n",
      "tel:18442452553\n",
      "None\n",
      "None\n",
      "https://ads.google.com/nav/login?subid=US-en-et-g-aw-a-home-awhp_xin1_signin!o2\n",
      "https://ads.google.com/signup?subid=US-en-et-g-aw-a-home-awhp_xin1_top!o2\n",
      "https://ads.google.com/signup?subid=US-en-et-g-aw-a-home-awhp_xin1_top!o2\n",
      "../home/\n",
      "#jump-content\n",
      "https://ads.google.com/signup?subid=US-en-et-g-aw-a-home-awhp_xin1_hero!o2\n",
      "None\n",
      "tel:18442452553\n",
      "https://ads.google.com/signup?subid=US-en-et-g-aw-a-home-awhp_xin1_mid!o2\n",
      "https://ads.google.com/signup?subid=US-en-et-g-aw-a-home-awhp_xin1_mid!o2\n",
      "https://ads.google.com/signup?subid=US-en-et-g-aw-a-home-awhp_xin1_mobmid!o2\n",
      "../home/pricing/\n",
      "../home/how-it-works/\n",
      "https://ads.google.com/signup?subid=US-en-et-g-aw-a-home-awhp_xin1_end!o2\n",
      "tel:18442452553\n",
      "None\n",
      "None\n",
      "https://crq8j.app.goo.gl/Qjxq\n",
      "https://policies.google.com/terms\n",
      "https://policies.google.com/privacy\n",
      "https://blog.google/products/ads/\n",
      "https://twitter.com/googleads\n",
      "https://www.youtube.com/googleads\n",
      "https://www.facebook.com/GoogleAds/\n",
      "../home/\n",
      "../home/how-it-works/\n",
      "../home/pricing/\n",
      "https://play.google.com/store/apps/details?id=com.google.android.apps.adwords&referrer=utm_source%3Dlandingpage%26utm_campaign%3Dmobileapplandingpage\n",
      "https://apps.apple.com/app/apple-store/id1037457231?pt=9008&ct=mobileapplandingpage&mt=8\n",
      "https://support.google.com/google-ads/answer/6146252?hl=en&utm_medium=et&utm_campaign=en&utm_source=ww-ww-et-b2bfooter_adwords\n",
      "https://support.google.com/google-ads/#topic=3119071&utm_source=smb_marketing&utm_medium=referral&utm_campaign=US-en-et-awhp-footer&utm_content=US\n",
      "https://support.google.com/google-ads/announcements/9048695\n",
      "https://www.en.advertisercommunity.com/t5/Google-Ads/ct-p/google-ads\n",
      "https://www.yourprimer.com/?utm_source=digital&utm_medium=embeddedpromo&utm_campaign=adwordsus\n",
      "https://skillshop.exceedlms.com/student/catalog/list?category_ids=53-google-ads&use_locale=true&utm_source=website&utm_medium=website&utm_campaign=GoogleAdsSite\n",
      "https://developers.google.com/?hl=en\n",
      "../home/tools/api/\n",
      "https://developers.google.com/google-ads/scripts/\n",
      "https://support.google.com/google-ads/answer/2476688?hl=en\n",
      "https://marketingplatform.google.com/about/analytics/?utm_source=google-growth&utm_medium=referral-internal&utm_campaign=2018-q4-amer-all-gafree-analytics&utm_content=ads-website-footer\n",
      "https://www.google.com/intl/en/retail/solutions/shopping-campaigns/\n",
      "https://ads.google.com/local-services-ads/?subid=ww-ww-et-gs-gls-a-adshpf_enus_z!o2&utm_campaign=ww-ww-et-gs-gls-a-adshpf_enus_z&utm_source=gls&utm_medium=et\n",
      "https://www.google.com/intl/en/business/\n",
      "https://www.google.com/intl/en/chrome/\n",
      "https://waze.com/business/\n",
      "https://www.google.com/intl/en/services/\n",
      "https://workspace.google.com/intl/en/?utm_medium=et&utm_source=adshome&utm_campaign=footer\n",
      "https://www.thinkwithgoogle.com/\n",
      "https://www.google.com/intl/en/adsense/start/?utm_source=internal&utm_medium=et&utm_campaign=adwords-homepage\n",
      "https://admob.google.com/home/?utm_source=Internal&utm_medium=et&utm_campaign=google-ads\n",
      "https://www.google.com\n",
      "https://policies.google.com/privacy?hl=en\n",
      "https://policies.google.com/terms?hl=en\n",
      "https://about.google/intl/en/\n",
      "https://about.google/intl/en/products/\n",
      "https://support.google.com/google-ads/?hl=en#topic=3119071\n",
      "[]\n"
     ]
    }
   ],
   "metadata": {}
  },
  {
   "cell_type": "code",
   "execution_count": 7,
   "source": [
    "# download robots.txt\r\n",
    "# multi threading\r\n",
    "# download html for each page\r\n"
   ],
   "outputs": [],
   "metadata": {}
  },
  {
   "cell_type": "code",
   "execution_count": 4,
   "source": [
    "def crawl(url):\r\n",
    "    try:\r\n",
    "        page=urllib.request.urlopen(url)\r\n",
    "    except urllib.error.HTTPError as error:\r\n",
    "        return url+\" \"+str(error.code)\r\n",
    "    size=len(page.read())/1024\r\n",
    "    return url+\" Size: \"+\"{:.2f}\".format(size)+\"kb\"\r\n",
    "print(crawl(\"http://mit.edu\"))\r\n",
    "print(crawl(\"https://www.dnb.com/business-directory/company-profiles.the_brooklyn_union_gas_company.89887e0b5ad7b8157fc9e5f233efd2a8.html\"))"
   ],
   "outputs": [
    {
     "output_type": "stream",
     "name": "stdout",
     "text": [
      "http://mit.edu Size: 46.43kb\n",
      "https://www.dnb.com/business-directory/company-profiles.the_brooklyn_union_gas_company.89887e0b5ad7b8157fc9e5f233efd2a8.html 403\n"
     ]
    }
   ],
   "metadata": {}
  },
  {
   "cell_type": "code",
   "execution_count": 5,
   "source": [
    "def get_links(url):\r\n",
    "    try:\r\n",
    "        page=urllib.request.urlopen(url)\r\n",
    "    except urllib.error.HTTPError as error:\r\n",
    "        return []\r\n",
    "    soup = BeautifulSoup(page.read(), \"html.parser\")\r\n",
    "    links = []\r\n",
    "    base = soup.find_all('base')\r\n",
    "    if base:\r\n",
    "        url=base[0].get('href')\r\n",
    "    for link in soup.find_all('a'):\r\n",
    "        #filter the links\r\n",
    "        #non-url\r\n",
    "        #modify relative url to common url\r\n",
    "        href=link.get('href')\r\n",
    "        parse_result=urlparse(href)\r\n",
    "        if parse_result.scheme==\"\":\r\n",
    "            links.append(urljoin(url,href))\r\n",
    "        else:\r\n",
    "            links.append(href)\r\n",
    "    return links\r\n",
    "# get_links('http://nyu.edu')\r\n",
    "get_links(\"https://www.dnb.com/business-directory/company-profiles.the_brooklyn_union_gas_company.89887e0b5ad7b8157fc9e5f233efd2a8.html\")"
   ],
   "outputs": [
    {
     "output_type": "execute_result",
     "data": {
      "text/plain": [
       "[]"
      ]
     },
     "metadata": {},
     "execution_count": 5
    }
   ],
   "metadata": {}
  },
  {
   "cell_type": "code",
   "execution_count": 8,
   "source": [
    "def bfs_crawler():\r\n",
    "    seen=set()\r\n",
    "    result=[]\r\n",
    "    crawled_site={}\r\n",
    "    q=queue.Queue()\r\n",
    "    for link in results_list:\r\n",
    "        parse_result=urlparse(link)\r\n",
    "        parsed_link=urljoin(parse_result.scheme+\"://\"+parse_result.netloc,parse_result.path)\r\n",
    "        netloc=parse_result.netloc\r\n",
    "        if parsed_link not in seen:\r\n",
    "            if netloc not in crawled_site or crawled_site[netloc]<10:\r\n",
    "                q.put(link)\r\n",
    "                seen.add(link)\r\n",
    "                if netloc not in crawled_site:\r\n",
    "                    crawled_site[netloc]=1\r\n",
    "                else:\r\n",
    "                    crawled_site[netloc]+=1\r\n",
    "    while len(result)<20:\r\n",
    "        cur=q.get()\r\n",
    "        print(len(result),\"crawling\",cur)\r\n",
    "        print(crawl(cur))\r\n",
    "        result.append(cur)\r\n",
    "        \r\n",
    "        for link in get_links(cur):\r\n",
    "            if link:\r\n",
    "                parse_result=urlparse(link)\r\n",
    "                parsed_link=urljoin(parse_result.scheme+\"://\"+parse_result.netloc,parse_result.path)\r\n",
    "                netloc=parse_result.netloc\r\n",
    "                if parsed_link not in seen:\r\n",
    "                    if netloc not in crawled_site or crawled_site[netloc]<10:\r\n",
    "                        q.put(link)\r\n",
    "                        seen.add(link)\r\n",
    "                        if netloc not in crawled_site:\r\n",
    "                            crawled_site[netloc]=1\r\n",
    "                        else:\r\n",
    "                            crawled_site[netloc]+=1\r\n",
    "bfs_crawler()"
   ],
   "outputs": [
    {
     "output_type": "stream",
     "name": "stdout",
     "text": [
      "0 crawling https://www.nationalgridus.com/\n",
      "https://www.nationalgridus.com/ Size: 118.49kb\n",
      "1 crawling https://www1.nationalgridus.com/signin\n",
      "https://www1.nationalgridus.com/signin Size: 167.03kb\n",
      "2 crawling https://www.nationalgridus.com/contact-us\n",
      "https://www.nationalgridus.com/contact-us Size: 119.30kb\n",
      "3 crawling https://www.nationalgridus.com/NY-Home/\n",
      "https://www.nationalgridus.com/NY-Home/ Size: 125.61kb\n",
      "4 crawling https://www.nationalgridus.com/regionalized/Billing-Payments/Ways-to-Pay\n",
      "https://www.nationalgridus.com/regionalized/Billing-Payments/Ways-to-Pay Size: 118.49kb\n",
      "5 crawling https://www.dnb.com/business-directory/company-profiles.the_brooklyn_union_gas_company.89887e0b5ad7b8157fc9e5f233efd2a8.html\n",
      "https://www.dnb.com/business-directory/company-profiles.the_brooklyn_union_gas_company.89887e0b5ad7b8157fc9e5f233efd2a8.html 403\n",
      "6 crawling https://en.wikipedia.org/wiki/KeySpan\n",
      "https://en.wikipedia.org/wiki/KeySpan Size: 45.87kb\n",
      "7 crawling https://www.bloomberg.com/profile/company/80132MF:US\n",
      "https://www.bloomberg.com/profile/company/80132MF:US Size: 10.68kb\n",
      "8 crawling https://www.nationalgridus.com/regionalized/Safety/Report-a-gas-emergency \n",
      "https://www.nationalgridus.com/regionalized/Safety/Report-a-gas-emergency  Size: 118.49kb\n",
      "9 crawling https://www1.nationalgridus.com/outages\n",
      "https://www1.nationalgridus.com/outages Size: 119.10kb\n",
      "10 crawling https://www.nationalgridus.com/Our-Company/\n",
      "https://www.nationalgridus.com/Our-Company/ Size: 130.71kb\n",
      "11 crawling https://www.nationalgridus.com/regionalized/Contact-Us/\n",
      "https://www.nationalgridus.com/regionalized/Contact-Us/ Size: 118.49kb\n",
      "12 crawling https://www1.nationalgridus.com/Account/Overview\n",
      "https://www1.nationalgridus.com/Account/Overview Size: 167.03kb\n",
      "13 crawling https://www1.nationalgridus.com/BillAndPaymentHistory\n",
      "https://www1.nationalgridus.com/BillAndPaymentHistory Size: 167.03kb\n",
      "14 crawling https://www1.nationalgridus.com/account/WaystoPay\n",
      "https://www1.nationalgridus.com/account/WaystoPay Size: 167.03kb\n",
      "15 crawling https://www1.nationalgridus.com/UsageCostGraphElectric\n",
      "https://www1.nationalgridus.com/UsageCostGraphElectric Size: 167.03kb\n",
      "16 crawling https://www1.nationalgridus.com/CommunicationPreferences\n",
      "https://www1.nationalgridus.com/CommunicationPreferences Size: 167.03kb\n",
      "17 crawling https://www.nationalgridus.com/regionalized/Check-Start-Stop-or-Transfer-Service\n",
      "https://www.nationalgridus.com/regionalized/Check-Start-Stop-or-Transfer-Service Size: 118.49kb\n",
      "18 crawling https://www1.nationalgridus.com/CheckServiceAvailability-StartService\n",
      "https://www1.nationalgridus.com/CheckServiceAvailability-StartService Size: 206.10kb\n",
      "19 crawling https://www1.nationalgridus.com/TurnOffService\n",
      "https://www1.nationalgridus.com/TurnOffService Size: 167.03kb\n"
     ]
    }
   ],
   "metadata": {}
  },
  {
   "cell_type": "code",
   "execution_count": null,
   "source": [
    "#priority queue\r\n",
    "#class ScoredUrl\r\n",
    "\r\n",
    "novelty_res={}\r\n",
    "candidate_urls={}\r\n",
    "url_pos={}\r\n",
    "class ScoredUrl:\r\n",
    "    def __init__(self, url):\r\n",
    "        self.url=url\r\n",
    "        self.netloc=urlparse(url).netloc\r\n",
    "        self.importance=0\r\n",
    "        if self.netloc not in novelty_res:\r\n",
    "            novelty_res[self.netloc]=10\r\n",
    "\r\n",
    "    def __eq__(self,other):\r\n",
    "        return novelty_res[self.netloc]+self.importance==novelty_res[other.netloc]+other.importance\r\n",
    "\r\n",
    "    def __lt__(self,other):\r\n",
    "        return novelty_res[self.netloc]+self.importance<novelty_res[other.netloc]+other.importance\r\n",
    "\r\n",
    "    def __gt__(self,other):\r\n",
    "        return self>other\r\n",
    "\r\n",
    "    def add_importance(self):\r\n",
    "        self.importance+=1\r\n",
    "\r\n",
    "    def crawl(self):\r\n",
    "        return get_links(self.url)\r\n",
    "\r\n",
    "\r\n",
    "\r\n",
    "class UrlQueue:\r\n",
    "    def __init__(self):\r\n",
    "        self.res=[]\r\n",
    "    \r\n",
    "    def add(self,new_url):\r\n",
    "        heapq.heappush(self.res,new_url)\r\n",
    "    \r\n",
    "    def update(self,new_url):\r\n",
    "        while\r\n",
    "    #update"
   ],
   "outputs": [],
   "metadata": {}
  }
 ],
 "metadata": {
  "orig_nbformat": 4,
  "language_info": {
   "name": "python",
   "version": "3.9.7",
   "mimetype": "text/x-python",
   "codemirror_mode": {
    "name": "ipython",
    "version": 3
   },
   "pygments_lexer": "ipython3",
   "nbconvert_exporter": "python",
   "file_extension": ".py"
  },
  "kernelspec": {
   "name": "python3",
   "display_name": "Python 3.9.7 64-bit"
  },
  "interpreter": {
   "hash": "12c989a2272087144a907f3af46e789b70a90abf7fd5b4372cac90cccd9eaa13"
  }
 },
 "nbformat": 4,
 "nbformat_minor": 2
}