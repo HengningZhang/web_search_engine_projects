{
 "cells": [
  {
   "cell_type": "code",
   "execution_count": 2,
   "source": [
    "from googlesearch import search"
   ],
   "outputs": [],
   "metadata": {}
  },
  {
   "cell_type": "code",
   "execution_count": 6,
   "source": [
    "query = \"kojima\"\r\n",
    "results_list = []\r\n",
    "for i in search(query,        # The query you want to run\r\n",
    "                tld = 'com',  # The top level domain\r\n",
    "                lang = 'en',  # The language\r\n",
    "                num = 10,     # Number of results per page\r\n",
    "                start = 0,    # First result to retrieve\r\n",
    "                stop = 10,  # Last result to retrieve\r\n",
    "                pause = 2.0,  # Lapse between HTTP requests\r\n",
    "               ):\r\n",
    "    results_list.append(i)\r\n",
    "    print(i)"
   ],
   "outputs": [
    {
     "output_type": "stream",
     "name": "stdout",
     "text": [
      "http://t3.gstatic.com/licensed-image?q=tbn:ANd9GcTHHZI3_Bhpn16_rz9lQJKbpFFPbxbEdHF6w2A_NCMWVoMstdw4vaeTclm_gRg5\n",
      "https://en.wikipedia.org/wiki/Hideo_Kojima\n",
      "https://en.wikipedia.org/wiki/Policenauts\n",
      "https://en.wikipedia.org/wiki/Snatcher_(video_game)\n",
      "https://en.wikipedia.org/wiki/Zone_of_the_Enders\n",
      "https://en.wikipedia.org/wiki/Penguin_Adventure\n",
      "https://www.videogameschronicle.com/news/hideo-kojimas-self-made-death-standing-directors-cut-trailer-shows-off-its-new-wide-mode/\n",
      "https://www.gamepur.com/news/death-stranding-directors-cut-final-trailer-edited-by-hideo-kojima-shows-widescreen-mode\n",
      "https://www.rockpapershotgun.com/hideo-kojima-is-a-luxury-brand\n",
      "https://en.wikipedia.org/wiki/Satoshi_Kojima\n"
     ]
    }
   ],
   "metadata": {}
  },
  {
   "cell_type": "code",
   "execution_count": 22,
   "source": [
    "from bs4 import BeautifulSoup\r\n",
    "import requests"
   ],
   "outputs": [],
   "metadata": {}
  },
  {
   "cell_type": "code",
   "execution_count": null,
   "source": [
    "\r\n",
    "html_page = requests.get(results_list[0])\r\n",
    "\r\n",
    "soup = BeautifulSoup(html_page.text, \"html.parser\")\r\n",
    "\r\n",
    "urls = []\r\n",
    "for link in soup.find_all('a'):\r\n",
    "    print(link.get('href'))\r\n",
    "print(urls)\r\n"
   ],
   "outputs": [],
   "metadata": {}
  },
  {
   "cell_type": "code",
   "execution_count": null,
   "source": [
    "# download robots.txt\r\n",
    "# multi threading\r\n",
    "# download html for each page\r\n"
   ],
   "outputs": [],
   "metadata": {}
  },
  {
   "cell_type": "code",
   "execution_count": 27,
   "source": [
    "def get_links(url):\r\n",
    "    page = requests.get(url)\r\n",
    "    soup = BeautifulSoup(page.text, \"html.parser\")\r\n",
    "    links = []\r\n",
    "    for link in soup.find_all('a'):\r\n",
    "        #filter the links\r\n",
    "        #non-url\r\n",
    "        #modify relative url to common url\r\n",
    "\r\n",
    "        links.append(link.get('href'))\r\n",
    "    print(links)\r\n",
    "get_links('http://google.com')"
   ],
   "outputs": [
    {
     "output_type": "stream",
     "name": "stdout",
     "text": [
      "['http://www.google.com/imghp?hl=en&tab=wi', 'http://maps.google.com/maps?hl=en&tab=wl', 'https://play.google.com/?hl=en&tab=w8', 'http://www.youtube.com/?gl=US&tab=w1', 'https://news.google.com/?tab=wn', 'https://mail.google.com/mail/?tab=wm', 'https://drive.google.com/?tab=wo', 'https://www.google.com/intl/en/about/products?tab=wh', 'http://www.google.com/history/optout?hl=en', '/preferences?hl=en', 'https://accounts.google.com/ServiceLogin?hl=en&passive=true&continue=http://www.google.com/&ec=GAZAAQ', '/advanced_search?hl=en&authuser=0', '/intl/en/ads/', '/services/', '/intl/en/about.html', '/intl/en/policies/privacy/', '/intl/en/policies/terms/']\n"
     ]
    }
   ],
   "metadata": {}
  },
  {
   "cell_type": "code",
   "execution_count": null,
   "source": [
    "#priority queue\r\n",
    "#class ScoredUrl\r\n"
   ],
   "outputs": [],
   "metadata": {}
  }
 ],
 "metadata": {
  "orig_nbformat": 4,
  "language_info": {
   "name": "python",
   "version": "3.8.7",
   "mimetype": "text/x-python",
   "codemirror_mode": {
    "name": "ipython",
    "version": 3
   },
   "pygments_lexer": "ipython3",
   "nbconvert_exporter": "python",
   "file_extension": ".py"
  },
  "kernelspec": {
   "name": "python3",
   "display_name": "Python 3.8.7 64-bit"
  },
  "interpreter": {
   "hash": "9604bcfdb310eb7f6e4519b72e69702a7cf4339b718aec785d094a7c0be77cdb"
  }
 },
 "nbformat": 4,
 "nbformat_minor": 2
}