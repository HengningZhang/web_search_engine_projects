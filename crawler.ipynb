{
 "cells": [
  {
   "cell_type": "code",
   "execution_count": 2,
   "source": [
    "from googlesearch import search"
   ],
   "outputs": [],
   "metadata": {}
  },
  {
   "cell_type": "code",
   "execution_count": 3,
   "source": [
    "query = \"kojima\"\r\n",
    "results_list = []\r\n",
    "for i in search(query,        # The query you want to run\r\n",
    "                tld = 'com',  # The top level domain\r\n",
    "                lang = 'en',  # The language\r\n",
    "                num = 10,     # Number of results per page\r\n",
    "                start = 0,    # First result to retrieve\r\n",
    "                stop = 10,  # Last result to retrieve\r\n",
    "                pause = 2.0,  # Lapse between HTTP requests\r\n",
    "               ):\r\n",
    "    results_list.append(i)\r\n",
    "    print(i)"
   ],
   "outputs": [
    {
     "output_type": "stream",
     "name": "stdout",
     "text": [
      "http://t3.gstatic.com/licensed-image?q=tbn:ANd9GcTHHZI3_Bhpn16_rz9lQJKbpFFPbxbEdHF6w2A_NCMWVoMstdw4vaeTclm_gRg5\n",
      "https://en.wikipedia.org/wiki/Hideo_Kojima\n",
      "https://en.wikipedia.org/wiki/Policenauts\n",
      "https://en.wikipedia.org/wiki/Zone_of_the_Enders\n",
      "https://en.wikipedia.org/wiki/Penguin_Adventure\n",
      "http://www.kojimaproductions.jp/en/\n",
      "https://www.videogameschronicle.com/news/hideo-kojimas-self-made-death-standing-directors-cut-trailer-shows-off-its-new-wide-mode/\n",
      "https://www.gamepur.com/news/death-stranding-directors-cut-final-trailer-edited-by-hideo-kojima-shows-widescreen-mode\n",
      "https://www.rockpapershotgun.com/hideo-kojima-is-a-luxury-brand\n",
      "https://twitter.com/HIDEO_KOJIMA_EN?ref_src=twsrc%5Egoogle%7Ctwcamp%5Eserp%7Ctwgr%5Eauthor\n"
     ]
    }
   ],
   "metadata": {}
  },
  {
   "cell_type": "code",
   "execution_count": 14,
   "source": [
    "from bs4 import BeautifulSoup\r\n",
    "import requests\r\n",
    "from urllib.parse import urlparse, urljoin"
   ],
   "outputs": [],
   "metadata": {}
  },
  {
   "cell_type": "code",
   "execution_count": 5,
   "source": [
    "\r\n",
    "html_page = requests.get(results_list[0])\r\n",
    "\r\n",
    "soup = BeautifulSoup(html_page.text, \"html.parser\")\r\n",
    "\r\n",
    "urls = []\r\n",
    "for link in soup.find_all('a'):\r\n",
    "    print(link.get('href'))\r\n",
    "print(urls)\r\n"
   ],
   "outputs": [
    {
     "output_type": "stream",
     "name": "stdout",
     "text": [
      "[]\n"
     ]
    }
   ],
   "metadata": {}
  },
  {
   "cell_type": "code",
   "execution_count": null,
   "source": [
    "# download robots.txt\r\n",
    "# multi threading\r\n",
    "# download html for each page\r\n"
   ],
   "outputs": [],
   "metadata": {}
  },
  {
   "cell_type": "code",
   "execution_count": 17,
   "source": [
    "def get_links(url):\r\n",
    "    page = requests.get(url)\r\n",
    "    soup = BeautifulSoup(page.text, \"html.parser\")\r\n",
    "    links = []\r\n",
    "    # base = soup.find_all('base')[0].get('href')\r\n",
    "    # print(base)\r\n",
    "    for link in soup.find_all('a'):\r\n",
    "        #filter the links\r\n",
    "        #non-url\r\n",
    "        #modify relative url to common url\r\n",
    "\r\n",
    "        links.append(link.get('href'))\r\n",
    "    for link in links:\r\n",
    "        parse_result=urlparse(link)\r\n",
    "        print(parse_result)\r\n",
    "        if parse_result.scheme==\"\":\r\n",
    "            print(urljoin(url,link))\r\n",
    "    return links\r\n",
    "get_links('http://google.com')"
   ],
   "outputs": [
    {
     "output_type": "stream",
     "name": "stdout",
     "text": [
      "ParseResult(scheme='http', netloc='www.google.com', path='/imghp', params='', query='hl=en&tab=wi', fragment='')\n",
      "ParseResult(scheme='http', netloc='maps.google.com', path='/maps', params='', query='hl=en&tab=wl', fragment='')\n",
      "ParseResult(scheme='https', netloc='play.google.com', path='/', params='', query='hl=en&tab=w8', fragment='')\n",
      "ParseResult(scheme='http', netloc='www.youtube.com', path='/', params='', query='gl=US&tab=w1', fragment='')\n",
      "ParseResult(scheme='https', netloc='news.google.com', path='/', params='', query='tab=wn', fragment='')\n",
      "ParseResult(scheme='https', netloc='mail.google.com', path='/mail/', params='', query='tab=wm', fragment='')\n",
      "ParseResult(scheme='https', netloc='drive.google.com', path='/', params='', query='tab=wo', fragment='')\n",
      "ParseResult(scheme='https', netloc='www.google.com', path='/intl/en/about/products', params='', query='tab=wh', fragment='')\n",
      "ParseResult(scheme='http', netloc='www.google.com', path='/history/optout', params='', query='hl=en', fragment='')\n",
      "ParseResult(scheme='', netloc='', path='/preferences', params='', query='hl=en', fragment='')\n",
      "http://google.com/preferences?hl=en\n",
      "ParseResult(scheme='https', netloc='accounts.google.com', path='/ServiceLogin', params='', query='hl=en&passive=true&continue=http://www.google.com/&ec=GAZAAQ', fragment='')\n",
      "ParseResult(scheme='', netloc='', path='/advanced_search', params='', query='hl=en&authuser=0', fragment='')\n",
      "http://google.com/advanced_search?hl=en&authuser=0\n",
      "ParseResult(scheme='', netloc='', path='/intl/en/ads/', params='', query='', fragment='')\n",
      "http://google.com/intl/en/ads/\n",
      "ParseResult(scheme='', netloc='', path='/services/', params='', query='', fragment='')\n",
      "http://google.com/services/\n",
      "ParseResult(scheme='', netloc='', path='/intl/en/about.html', params='', query='', fragment='')\n",
      "http://google.com/intl/en/about.html\n",
      "ParseResult(scheme='', netloc='', path='/intl/en/policies/privacy/', params='', query='', fragment='')\n",
      "http://google.com/intl/en/policies/privacy/\n",
      "ParseResult(scheme='', netloc='', path='/intl/en/policies/terms/', params='', query='', fragment='')\n",
      "http://google.com/intl/en/policies/terms/\n"
     ]
    },
    {
     "output_type": "execute_result",
     "data": {
      "text/plain": [
       "['http://www.google.com/imghp?hl=en&tab=wi',\n",
       " 'http://maps.google.com/maps?hl=en&tab=wl',\n",
       " 'https://play.google.com/?hl=en&tab=w8',\n",
       " 'http://www.youtube.com/?gl=US&tab=w1',\n",
       " 'https://news.google.com/?tab=wn',\n",
       " 'https://mail.google.com/mail/?tab=wm',\n",
       " 'https://drive.google.com/?tab=wo',\n",
       " 'https://www.google.com/intl/en/about/products?tab=wh',\n",
       " 'http://www.google.com/history/optout?hl=en',\n",
       " '/preferences?hl=en',\n",
       " 'https://accounts.google.com/ServiceLogin?hl=en&passive=true&continue=http://www.google.com/&ec=GAZAAQ',\n",
       " '/advanced_search?hl=en&authuser=0',\n",
       " '/intl/en/ads/',\n",
       " '/services/',\n",
       " '/intl/en/about.html',\n",
       " '/intl/en/policies/privacy/',\n",
       " '/intl/en/policies/terms/']"
      ]
     },
     "metadata": {},
     "execution_count": 17
    }
   ],
   "metadata": {}
  },
  {
   "cell_type": "code",
   "execution_count": null,
   "source": [
    "#priority queue\r\n",
    "#class ScoredUrl\r\n",
    "class ScoredUrl:\r\n",
    "    def __init__(self, url):\r\n",
    "        self.url=url\r\n",
    "        self.novelty=10\r\n",
    "        self.importance=1\r\n",
    "\r\n",
    "    def crawled(self):\r\n",
    "        self.novelty-=1\r\n",
    "        self.importance+=1\r\n",
    "    \r\n",
    "    def referred(self):\r\n",
    "        self.importance+=1\r\n",
    "\r\n",
    "    def canCrawl(self):\r\n",
    "\r\n",
    "    def crawl(self):\r\n",
    "        return get_links(self.url)\r\n",
    "\r\n"
   ],
   "outputs": [],
   "metadata": {}
  }
 ],
 "metadata": {
  "orig_nbformat": 4,
  "language_info": {
   "name": "python",
   "version": "3.8.7",
   "mimetype": "text/x-python",
   "codemirror_mode": {
    "name": "ipython",
    "version": 3
   },
   "pygments_lexer": "ipython3",
   "nbconvert_exporter": "python",
   "file_extension": ".py"
  },
  "kernelspec": {
   "name": "python3",
   "display_name": "Python 3.8.7 64-bit"
  },
  "interpreter": {
   "hash": "9604bcfdb310eb7f6e4519b72e69702a7cf4339b718aec785d094a7c0be77cdb"
  }
 },
 "nbformat": 4,
 "nbformat_minor": 2
}